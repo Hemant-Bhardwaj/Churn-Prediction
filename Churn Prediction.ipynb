{
 "cells": [
  {
   "cell_type": "markdown",
   "metadata": {},
   "source": [
    "## Churn Prediction for a telecom company "
   ]
  },
  {
   "cell_type": "code",
   "execution_count": 61,
   "metadata": {},
   "outputs": [],
   "source": [
    "#Importing all the required libraries\n",
    "import numpy as np\n",
    "import pandas as pd\n",
    "import seaborn as sns\n",
    "import matplotlib.ticker as mtick\n",
    "import matplotlib.pyplot as plt\n",
    "from sklearn import metrics\n",
    "from sklearn.model_selection import cross_val_score\n",
    "from sklearn.metrics import roc_auc_score\n",
    "from sklearn.metrics import accuracy_score\n",
    "from sklearn.metrics import classification_report\n",
    "from sklearn.model_selection import GridSearchCV \n",
    "\n",
    "sns.set(style = 'white')"
   ]
  },
  {
   "cell_type": "code",
   "execution_count": 62,
   "metadata": {},
   "outputs": [],
   "source": [
    "df = pd.read_csv('train.csv', index_col = False)"
   ]
  },
  {
   "cell_type": "code",
   "execution_count": 63,
   "metadata": {},
   "outputs": [
    {
     "data": {
      "text/plain": [
       "array(['COLLEGE', 'INCOME', 'OVERAGE', 'LEFTOVER', 'HOUSE',\n",
       "       'HANDSET_PRICE', 'OVER_15MINS_CALLS_PER_MONTH',\n",
       "       'AVERAGE_CALL_DURATION', 'REPORTED_SATISFACTION',\n",
       "       'REPORTED_USAGE_LEVEL', 'CONSIDERING_CHANGE_OF_PLAN', 'LEAVE'],\n",
       "      dtype=object)"
      ]
     },
     "execution_count": 63,
     "metadata": {},
     "output_type": "execute_result"
    }
   ],
   "source": [
    "df.columns.values"
   ]
  },
  {
   "cell_type": "code",
   "execution_count": 64,
   "metadata": {},
   "outputs": [
    {
     "data": {
      "text/plain": [
       "COLLEGE                        object\n",
       "INCOME                          int64\n",
       "OVERAGE                         int64\n",
       "LEFTOVER                        int64\n",
       "HOUSE                           int64\n",
       "HANDSET_PRICE                   int64\n",
       "OVER_15MINS_CALLS_PER_MONTH     int64\n",
       "AVERAGE_CALL_DURATION           int64\n",
       "REPORTED_SATISFACTION          object\n",
       "REPORTED_USAGE_LEVEL           object\n",
       "CONSIDERING_CHANGE_OF_PLAN     object\n",
       "LEAVE                           int64\n",
       "dtype: object"
      ]
     },
     "execution_count": 64,
     "metadata": {},
     "output_type": "execute_result"
    }
   ],
   "source": [
    "df.dtypes"
   ]
  },
  {
   "cell_type": "markdown",
   "metadata": {},
   "source": [
    "#### Understanding the data "
   ]
  },
  {
   "cell_type": "code",
   "execution_count": 65,
   "metadata": {},
   "outputs": [
    {
     "data": {
      "text/plain": [
       "<matplotlib.axes._subplots.AxesSubplot at 0x1a1f827128>"
      ]
     },
     "execution_count": 65,
     "metadata": {},
     "output_type": "execute_result"
    },
    {
     "data": {
      "image/png": "[encoded data removed]",
      "text/plain": [
       "<Figure size 1080x576 with 1 Axes>"
      ]
     },
     "metadata": {},
     "output_type": "display_data"
    }
   ],
   "source": [
    "#Get Correlation of \"LEAVE\" with other variables:\n",
    "plt.figure(figsize=(15,8))\n",
    "df.corr()['LEAVE'].sort_values(ascending = False).plot(kind='bar')"
   ]
  },
  {
   "cell_type": "code",
   "execution_count": 66,
   "metadata": {
    "scrolled": true
   },
   "outputs": [
    {
     "data": {
      "text/html": [
       "<div>\n",
       "<style scoped>\n",
       "    .dataframe tbody tr th:only-of-type {\n",
       "        vertical-align: middle;\n",
       "    }\n",
       "\n",
       "    .dataframe tbody tr th {\n",
       "        vertical-align: top;\n",
       "    }\n",
       "\n",
       "    .dataframe thead th {\n",
       "        text-align: right;\n",
       "    }\n",
       "</style>\n",
       "<table border=\"1\" class=\"dataframe\">\n",
       "  <thead>\n",
       "    <tr style=\"text-align: right;\">\n",
       "      <th></th>\n",
       "      <th>COLLEGE</th>\n",
       "      <th>REPORTED_SATISFACTION</th>\n",
       "      <th>REPORTED_USAGE_LEVEL</th>\n",
       "      <th>CONSIDERING_CHANGE_OF_PLAN</th>\n",
       "    </tr>\n",
       "  </thead>\n",
       "  <tbody>\n",
       "    <tr>\n",
       "      <th>0</th>\n",
       "      <td>zero</td>\n",
       "      <td>unsat</td>\n",
       "      <td>very_little</td>\n",
       "      <td>considering</td>\n",
       "    </tr>\n",
       "    <tr>\n",
       "      <th>1</th>\n",
       "      <td>zero</td>\n",
       "      <td>unsat</td>\n",
       "      <td>avg</td>\n",
       "      <td>actively_looking_into_it</td>\n",
       "    </tr>\n",
       "    <tr>\n",
       "      <th>2</th>\n",
       "      <td>one</td>\n",
       "      <td>very_unsat</td>\n",
       "      <td>high</td>\n",
       "      <td>perhaps</td>\n",
       "    </tr>\n",
       "    <tr>\n",
       "      <th>3</th>\n",
       "      <td>zero</td>\n",
       "      <td>very_unsat</td>\n",
       "      <td>little</td>\n",
       "      <td>considering</td>\n",
       "    </tr>\n",
       "    <tr>\n",
       "      <th>4</th>\n",
       "      <td>one</td>\n",
       "      <td>very_unsat</td>\n",
       "      <td>avg</td>\n",
       "      <td>perhaps</td>\n",
       "    </tr>\n",
       "  </tbody>\n",
       "</table>\n",
       "</div>"
      ],
      "text/plain": [
       "  COLLEGE REPORTED_SATISFACTION REPORTED_USAGE_LEVEL  \\\n",
       "0    zero                 unsat          very_little   \n",
       "1    zero                 unsat                  avg   \n",
       "2     one            very_unsat                 high   \n",
       "3    zero            very_unsat               little   \n",
       "4     one            very_unsat                  avg   \n",
       "\n",
       "  CONSIDERING_CHANGE_OF_PLAN  \n",
       "0                considering  \n",
       "1   actively_looking_into_it  \n",
       "2                    perhaps  \n",
       "3                considering  \n",
       "4                    perhaps  "
      ]
     },
     "execution_count": 66,
     "metadata": {},
     "output_type": "execute_result"
    }
   ],
   "source": [
    "df.select_dtypes(include = ['object']).copy().head()"
   ]
  },
  {
   "cell_type": "code",
   "execution_count": 67,
   "metadata": {},
   "outputs": [
    {
     "data": {
      "text/html": [
       "<div>\n",
       "<style scoped>\n",
       "    .dataframe tbody tr th:only-of-type {\n",
       "        vertical-align: middle;\n",
       "    }\n",
       "\n",
       "    .dataframe tbody tr th {\n",
       "        vertical-align: top;\n",
       "    }\n",
       "\n",
       "    .dataframe thead th {\n",
       "        text-align: right;\n",
       "    }\n",
       "</style>\n",
       "<table border=\"1\" class=\"dataframe\">\n",
       "  <thead>\n",
       "    <tr style=\"text-align: right;\">\n",
       "      <th></th>\n",
       "      <th>COLLEGE</th>\n",
       "      <th>INCOME</th>\n",
       "      <th>OVERAGE</th>\n",
       "      <th>LEFTOVER</th>\n",
       "      <th>HOUSE</th>\n",
       "      <th>HANDSET_PRICE</th>\n",
       "      <th>OVER_15MINS_CALLS_PER_MONTH</th>\n",
       "      <th>AVERAGE_CALL_DURATION</th>\n",
       "      <th>REPORTED_SATISFACTION</th>\n",
       "      <th>REPORTED_USAGE_LEVEL</th>\n",
       "      <th>CONSIDERING_CHANGE_OF_PLAN</th>\n",
       "      <th>LEAVE</th>\n",
       "    </tr>\n",
       "  </thead>\n",
       "  <tbody>\n",
       "    <tr>\n",
       "      <th>0</th>\n",
       "      <td>0</td>\n",
       "      <td>28987</td>\n",
       "      <td>191</td>\n",
       "      <td>20</td>\n",
       "      <td>175953</td>\n",
       "      <td>217</td>\n",
       "      <td>28</td>\n",
       "      <td>5</td>\n",
       "      <td>unsat</td>\n",
       "      <td>very_little</td>\n",
       "      <td>considering</td>\n",
       "      <td>1</td>\n",
       "    </tr>\n",
       "    <tr>\n",
       "      <th>1</th>\n",
       "      <td>0</td>\n",
       "      <td>45201</td>\n",
       "      <td>0</td>\n",
       "      <td>0</td>\n",
       "      <td>841177</td>\n",
       "      <td>160</td>\n",
       "      <td>1</td>\n",
       "      <td>15</td>\n",
       "      <td>unsat</td>\n",
       "      <td>avg</td>\n",
       "      <td>actively_looking_into_it</td>\n",
       "      <td>0</td>\n",
       "    </tr>\n",
       "    <tr>\n",
       "      <th>2</th>\n",
       "      <td>1</td>\n",
       "      <td>110663</td>\n",
       "      <td>0</td>\n",
       "      <td>0</td>\n",
       "      <td>902611</td>\n",
       "      <td>529</td>\n",
       "      <td>1</td>\n",
       "      <td>13</td>\n",
       "      <td>very_unsat</td>\n",
       "      <td>high</td>\n",
       "      <td>perhaps</td>\n",
       "      <td>0</td>\n",
       "    </tr>\n",
       "    <tr>\n",
       "      <th>3</th>\n",
       "      <td>0</td>\n",
       "      <td>40646</td>\n",
       "      <td>169</td>\n",
       "      <td>71</td>\n",
       "      <td>772903</td>\n",
       "      <td>146</td>\n",
       "      <td>24</td>\n",
       "      <td>2</td>\n",
       "      <td>very_unsat</td>\n",
       "      <td>little</td>\n",
       "      <td>considering</td>\n",
       "      <td>1</td>\n",
       "    </tr>\n",
       "    <tr>\n",
       "      <th>4</th>\n",
       "      <td>1</td>\n",
       "      <td>132530</td>\n",
       "      <td>0</td>\n",
       "      <td>10</td>\n",
       "      <td>196535</td>\n",
       "      <td>559</td>\n",
       "      <td>0</td>\n",
       "      <td>6</td>\n",
       "      <td>very_unsat</td>\n",
       "      <td>avg</td>\n",
       "      <td>perhaps</td>\n",
       "      <td>0</td>\n",
       "    </tr>\n",
       "  </tbody>\n",
       "</table>\n",
       "</div>"
      ],
      "text/plain": [
       "   COLLEGE  INCOME  OVERAGE  LEFTOVER   HOUSE  HANDSET_PRICE  \\\n",
       "0        0   28987      191        20  175953            217   \n",
       "1        0   45201        0         0  841177            160   \n",
       "2        1  110663        0         0  902611            529   \n",
       "3        0   40646      169        71  772903            146   \n",
       "4        1  132530        0        10  196535            559   \n",
       "\n",
       "   OVER_15MINS_CALLS_PER_MONTH  AVERAGE_CALL_DURATION REPORTED_SATISFACTION  \\\n",
       "0                           28                      5                 unsat   \n",
       "1                            1                     15                 unsat   \n",
       "2                            1                     13            very_unsat   \n",
       "3                           24                      2            very_unsat   \n",
       "4                            0                      6            very_unsat   \n",
       "\n",
       "  REPORTED_USAGE_LEVEL CONSIDERING_CHANGE_OF_PLAN  LEAVE  \n",
       "0          very_little                considering      1  \n",
       "1                  avg   actively_looking_into_it      0  \n",
       "2                 high                    perhaps      0  \n",
       "3               little                considering      1  \n",
       "4                  avg                    perhaps      0  "
      ]
     },
     "execution_count": 67,
     "metadata": {},
     "output_type": "execute_result"
    }
   ],
   "source": [
    "cleanup_nums = {'COLLEGE': {'zero': 0, 'one': 1}}\n",
    "df.replace(cleanup_nums, inplace = True)\n",
    "df.head()"
   ]
  },
  {
   "cell_type": "code",
   "execution_count": 68,
   "metadata": {},
   "outputs": [
    {
     "data": {
      "text/html": [
       "<div>\n",
       "<style scoped>\n",
       "    .dataframe tbody tr th:only-of-type {\n",
       "        vertical-align: middle;\n",
       "    }\n",
       "\n",
       "    .dataframe tbody tr th {\n",
       "        vertical-align: top;\n",
       "    }\n",
       "\n",
       "    .dataframe thead th {\n",
       "        text-align: right;\n",
       "    }\n",
       "</style>\n",
       "<table border=\"1\" class=\"dataframe\">\n",
       "  <thead>\n",
       "    <tr style=\"text-align: right;\">\n",
       "      <th></th>\n",
       "      <th>COLLEGE</th>\n",
       "      <th>INCOME</th>\n",
       "      <th>OVERAGE</th>\n",
       "      <th>LEFTOVER</th>\n",
       "      <th>HOUSE</th>\n",
       "      <th>HANDSET_PRICE</th>\n",
       "      <th>OVER_15MINS_CALLS_PER_MONTH</th>\n",
       "      <th>AVERAGE_CALL_DURATION</th>\n",
       "      <th>LEAVE</th>\n",
       "      <th>REPORTED_SATISFACTION_avg</th>\n",
       "      <th>...</th>\n",
       "      <th>REPORTED_USAGE_LEVEL_avg</th>\n",
       "      <th>REPORTED_USAGE_LEVEL_high</th>\n",
       "      <th>REPORTED_USAGE_LEVEL_little</th>\n",
       "      <th>REPORTED_USAGE_LEVEL_very_high</th>\n",
       "      <th>REPORTED_USAGE_LEVEL_very_little</th>\n",
       "      <th>CONSIDERING_CHANGE_OF_PLAN_actively_looking_into_it</th>\n",
       "      <th>CONSIDERING_CHANGE_OF_PLAN_considering</th>\n",
       "      <th>CONSIDERING_CHANGE_OF_PLAN_never_thought</th>\n",
       "      <th>CONSIDERING_CHANGE_OF_PLAN_no</th>\n",
       "      <th>CONSIDERING_CHANGE_OF_PLAN_perhaps</th>\n",
       "    </tr>\n",
       "  </thead>\n",
       "  <tbody>\n",
       "    <tr>\n",
       "      <th>0</th>\n",
       "      <td>0</td>\n",
       "      <td>28987</td>\n",
       "      <td>191</td>\n",
       "      <td>20</td>\n",
       "      <td>175953</td>\n",
       "      <td>217</td>\n",
       "      <td>28</td>\n",
       "      <td>5</td>\n",
       "      <td>1</td>\n",
       "      <td>0</td>\n",
       "      <td>...</td>\n",
       "      <td>0</td>\n",
       "      <td>0</td>\n",
       "      <td>0</td>\n",
       "      <td>0</td>\n",
       "      <td>1</td>\n",
       "      <td>0</td>\n",
       "      <td>1</td>\n",
       "      <td>0</td>\n",
       "      <td>0</td>\n",
       "      <td>0</td>\n",
       "    </tr>\n",
       "    <tr>\n",
       "      <th>1</th>\n",
       "      <td>0</td>\n",
       "      <td>45201</td>\n",
       "      <td>0</td>\n",
       "      <td>0</td>\n",
       "      <td>841177</td>\n",
       "      <td>160</td>\n",
       "      <td>1</td>\n",
       "      <td>15</td>\n",
       "      <td>0</td>\n",
       "      <td>0</td>\n",
       "      <td>...</td>\n",
       "      <td>1</td>\n",
       "      <td>0</td>\n",
       "      <td>0</td>\n",
       "      <td>0</td>\n",
       "      <td>0</td>\n",
       "      <td>1</td>\n",
       "      <td>0</td>\n",
       "      <td>0</td>\n",
       "      <td>0</td>\n",
       "      <td>0</td>\n",
       "    </tr>\n",
       "    <tr>\n",
       "      <th>2</th>\n",
       "      <td>1</td>\n",
       "      <td>110663</td>\n",
       "      <td>0</td>\n",
       "      <td>0</td>\n",
       "      <td>902611</td>\n",
       "      <td>529</td>\n",
       "      <td>1</td>\n",
       "      <td>13</td>\n",
       "      <td>0</td>\n",
       "      <td>0</td>\n",
       "      <td>...</td>\n",
       "      <td>0</td>\n",
       "      <td>1</td>\n",
       "      <td>0</td>\n",
       "      <td>0</td>\n",
       "      <td>0</td>\n",
       "      <td>0</td>\n",
       "      <td>0</td>\n",
       "      <td>0</td>\n",
       "      <td>0</td>\n",
       "      <td>1</td>\n",
       "    </tr>\n",
       "    <tr>\n",
       "      <th>3</th>\n",
       "      <td>0</td>\n",
       "      <td>40646</td>\n",
       "      <td>169</td>\n",
       "      <td>71</td>\n",
       "      <td>772903</td>\n",
       "      <td>146</td>\n",
       "      <td>24</td>\n",
       "      <td>2</td>\n",
       "      <td>1</td>\n",
       "      <td>0</td>\n",
       "      <td>...</td>\n",
       "      <td>0</td>\n",
       "      <td>0</td>\n",
       "      <td>1</td>\n",
       "      <td>0</td>\n",
       "      <td>0</td>\n",
       "      <td>0</td>\n",
       "      <td>1</td>\n",
       "      <td>0</td>\n",
       "      <td>0</td>\n",
       "      <td>0</td>\n",
       "    </tr>\n",
       "    <tr>\n",
       "      <th>4</th>\n",
       "      <td>1</td>\n",
       "      <td>132530</td>\n",
       "      <td>0</td>\n",
       "      <td>10</td>\n",
       "      <td>196535</td>\n",
       "      <td>559</td>\n",
       "      <td>0</td>\n",
       "      <td>6</td>\n",
       "      <td>0</td>\n",
       "      <td>0</td>\n",
       "      <td>...</td>\n",
       "      <td>1</td>\n",
       "      <td>0</td>\n",
       "      <td>0</td>\n",
       "      <td>0</td>\n",
       "      <td>0</td>\n",
       "      <td>0</td>\n",
       "      <td>0</td>\n",
       "      <td>0</td>\n",
       "      <td>0</td>\n",
       "      <td>1</td>\n",
       "    </tr>\n",
       "  </tbody>\n",
       "</table>\n",
       "<p>5 rows × 24 columns</p>\n",
       "</div>"
      ],
      "text/plain": [
       "   COLLEGE  INCOME  OVERAGE  LEFTOVER   HOUSE  HANDSET_PRICE  \\\n",
       "0        0   28987      191        20  175953            217   \n",
       "1        0   45201        0         0  841177            160   \n",
       "2        1  110663        0         0  902611            529   \n",
       "3        0   40646      169        71  772903            146   \n",
       "4        1  132530        0        10  196535            559   \n",
       "\n",
       "   OVER_15MINS_CALLS_PER_MONTH  AVERAGE_CALL_DURATION  LEAVE  \\\n",
       "0                           28                      5      1   \n",
       "1                            1                     15      0   \n",
       "2                            1                     13      0   \n",
       "3                           24                      2      1   \n",
       "4                            0                      6      0   \n",
       "\n",
       "   REPORTED_SATISFACTION_avg                 ...                  \\\n",
       "0                          0                 ...                   \n",
       "1                          0                 ...                   \n",
       "2                          0                 ...                   \n",
       "3                          0                 ...                   \n",
       "4                          0                 ...                   \n",
       "\n",
       "   REPORTED_USAGE_LEVEL_avg  REPORTED_USAGE_LEVEL_high  \\\n",
       "0                         0                          0   \n",
       "1                         1                          0   \n",
       "2                         0                          1   \n",
       "3                         0                          0   \n",
       "4                         1                          0   \n",
       "\n",
       "   REPORTED_USAGE_LEVEL_little  REPORTED_USAGE_LEVEL_very_high  \\\n",
       "0                            0                               0   \n",
       "1                            0                               0   \n",
       "2                            0                               0   \n",
       "3                            1                               0   \n",
       "4                            0                               0   \n",
       "\n",
       "   REPORTED_USAGE_LEVEL_very_little  \\\n",
       "0                                 1   \n",
       "1                                 0   \n",
       "2                                 0   \n",
       "3                                 0   \n",
       "4                                 0   \n",
       "\n",
       "   CONSIDERING_CHANGE_OF_PLAN_actively_looking_into_it  \\\n",
       "0                                                  0     \n",
       "1                                                  1     \n",
       "2                                                  0     \n",
       "3                                                  0     \n",
       "4                                                  0     \n",
       "\n",
       "   CONSIDERING_CHANGE_OF_PLAN_considering  \\\n",
       "0                                       1   \n",
       "1                                       0   \n",
       "2                                       0   \n",
       "3                                       1   \n",
       "4                                       0   \n",
       "\n",
       "   CONSIDERING_CHANGE_OF_PLAN_never_thought  CONSIDERING_CHANGE_OF_PLAN_no  \\\n",
       "0                                         0                              0   \n",
       "1                                         0                              0   \n",
       "2                                         0                              0   \n",
       "3                                         0                              0   \n",
       "4                                         0                              0   \n",
       "\n",
       "   CONSIDERING_CHANGE_OF_PLAN_perhaps  \n",
       "0                                   0  \n",
       "1                                   0  \n",
       "2                                   1  \n",
       "3                                   0  \n",
       "4                                   1  \n",
       "\n",
       "[5 rows x 24 columns]"
      ]
     },
     "execution_count": 68,
     "metadata": {},
     "output_type": "execute_result"
    }
   ],
   "source": [
    "df_dummies = pd.get_dummies(df)\n",
    "df_dummies.head()"
   ]
  },
  {
   "cell_type": "code",
   "execution_count": 69,
   "metadata": {
    "scrolled": true
   },
   "outputs": [
    {
     "data": {
      "text/plain": [
       "<matplotlib.axes._subplots.AxesSubplot at 0x1a15174908>"
      ]
     },
     "execution_count": 69,
     "metadata": {},
     "output_type": "execute_result"
    },
    {
     "data": {
      "image/png": "[encoded data removed]",
      "text/plain": [
       "<Figure size 1080x576 with 1 Axes>"
      ]
     },
     "metadata": {},
     "output_type": "display_data"
    }
   ],
   "source": [
    "#Get Correlation of \"LEAVE\" with other variables:\n",
    "plt.figure(figsize=(15,8))\n",
    "df_dummies.corr()['LEAVE'].sort_values(ascending = False).plot(kind='bar')"
   ]
  },
  {
   "cell_type": "markdown",
   "metadata": {},
   "source": [
    "#### 'OVERAGE' and 'OVER_15_MINS_CALLS_PER_MONTH' are positively correlated with 'LEAVE' while 'HOUSE' is negatively correlated. This means that customers who have higher house value tend not not leave. While overage customers and cutomers who make more number of long duration calls tend to leave."
   ]
  },
  {
   "cell_type": "code",
   "execution_count": 70,
   "metadata": {},
   "outputs": [
    {
     "data": {
      "text/plain": [
       "<matplotlib.axes._subplots.AxesSubplot at 0x1a15535860>"
      ]
     },
     "execution_count": 70,
     "metadata": {},
     "output_type": "execute_result"
    },
    {
     "data": {
      "image/png": "[encoded data removed]",
      "text/plain": [
       "<Figure size 432x288 with 1 Axes>"
      ]
     },
     "metadata": {},
     "output_type": "display_data"
    }
   ],
   "source": [
    "sns.boxplot(x = df.LEAVE, y = df.HOUSE)"
   ]
  },
  {
   "cell_type": "markdown",
   "metadata": {},
   "source": [
    "#### As expected, customers with higher house values stay with the network. "
   ]
  },
  {
   "cell_type": "code",
   "execution_count": 71,
   "metadata": {},
   "outputs": [
    {
     "data": {
      "image/png": "[encoded data removed]",
      "text/plain": [
       "<Figure size 576x432 with 1 Axes>"
      ]
     },
     "metadata": {},
     "output_type": "display_data"
    }
   ],
   "source": [
    "#Leave rate of the customers.\n",
    "colors = ['#42f480','#E4512B']\n",
    "ax = (df['LEAVE'].value_counts()*100.0 /len(df)).plot(kind='bar',\n",
    "                                                                           stacked = True,\n",
    "                                                                          rot = 0,\n",
    "                                                                          color = colors,\n",
    "                                                                         figsize = (8,6))\n",
    "ax.yaxis.set_major_formatter(mtick.PercentFormatter())\n",
    "ax.set_ylabel('% Customers',size = 14)\n",
    "ax.set_xlabel('Leave',size = 14)\n",
    "ax.set_title('Leave Rate', size = 14)\n",
    "\n",
    "# create a list to collect the plt.patches data\n",
    "totals = []\n",
    "\n",
    "# find the values and append to list\n",
    "for i in ax.patches:\n",
    "    totals.append(i.get_width())\n",
    "\n",
    "# set individual bar lables using above list\n",
    "total = sum(totals)\n",
    "\n",
    "for i in ax.patches:\n",
    "    # get_width pulls left or right; get_y pushes up or down\n",
    "    ax.text(i.get_x()+.15, i.get_height()-4.0, \\\n",
    "            str(round((i.get_height()/total), 1))+'%',\n",
    "            fontsize=12,\n",
    "            color='white',\n",
    "           weight = 'bold',\n",
    "           size = 14)"
   ]
  },
  {
   "cell_type": "markdown",
   "metadata": {},
   "source": [
    "#### The above barplot shows that the data is pretty evenly distributed."
   ]
  },
  {
   "cell_type": "code",
   "execution_count": 72,
   "metadata": {},
   "outputs": [
    {
     "data": {
      "image/png": "[encoded data removed]",
      "text/plain": [
       "<Figure size 1080x720 with 1 Axes>"
      ]
     },
     "metadata": {},
     "output_type": "display_data"
    }
   ],
   "source": [
    "colors = ['#42f480','#E4512B']\n",
    "longCalls_leave = df.groupby(['OVER_15MINS_CALLS_PER_MONTH','LEAVE']).size().unstack()\n",
    "\n",
    "ax = (longCalls_leave.T*100.0 / longCalls_leave.T.sum()).T.plot(kind='bar',\n",
    "                                                                width = 0.8,\n",
    "                                                                stacked = True,\n",
    "                                                                rot = 0, \n",
    "                                                                figsize = (15,10),\n",
    "                                                                color = colors)\n",
    "ax.yaxis.set_major_formatter(mtick.PercentFormatter())\n",
    "ax.legend(loc='best',prop={'size':14},title = 'Leave')\n",
    "ax.set_ylabel('% Customers',size = 14)\n",
    "ax.set_title('Leave by Over 15 mins calls/month',size = 14)\n",
    "\n",
    "# Code to add the data labels on the stacked bar chart\n",
    "for p in ax.patches:\n",
    "    width, height = p.get_width(), p.get_height()\n",
    "    x, y = p.get_xy() \n",
    "    ax.annotate('{:.0f}%'.format(height), (p.get_x()+.25*width, p.get_y()+.4*height),\n",
    "                color = 'white',\n",
    "               weight = 'bold',\n",
    "               size = 14)"
   ]
  },
  {
   "cell_type": "markdown",
   "metadata": {},
   "source": [
    "#### 60% of the customers who make more than  5 'OVER_15MINS_CALLS' per month, leave."
   ]
  },
  {
   "cell_type": "code",
   "execution_count": 73,
   "metadata": {},
   "outputs": [
    {
     "data": {
      "text/html": [
       "<div>\n",
       "<style scoped>\n",
       "    .dataframe tbody tr th:only-of-type {\n",
       "        vertical-align: middle;\n",
       "    }\n",
       "\n",
       "    .dataframe tbody tr th {\n",
       "        vertical-align: top;\n",
       "    }\n",
       "\n",
       "    .dataframe thead th {\n",
       "        text-align: right;\n",
       "    }\n",
       "</style>\n",
       "<table border=\"1\" class=\"dataframe\">\n",
       "  <thead>\n",
       "    <tr style=\"text-align: right;\">\n",
       "      <th></th>\n",
       "      <th>COLLEGE</th>\n",
       "      <th>INCOME</th>\n",
       "      <th>OVERAGE</th>\n",
       "      <th>LEFTOVER</th>\n",
       "      <th>HOUSE</th>\n",
       "      <th>HANDSET_PRICE</th>\n",
       "      <th>OVER_15MINS_CALLS_PER_MONTH</th>\n",
       "      <th>AVERAGE_CALL_DURATION</th>\n",
       "      <th>REPORTED_SATISFACTION_avg</th>\n",
       "      <th>REPORTED_SATISFACTION_sat</th>\n",
       "      <th>...</th>\n",
       "      <th>REPORTED_USAGE_LEVEL_avg</th>\n",
       "      <th>REPORTED_USAGE_LEVEL_high</th>\n",
       "      <th>REPORTED_USAGE_LEVEL_little</th>\n",
       "      <th>REPORTED_USAGE_LEVEL_very_high</th>\n",
       "      <th>REPORTED_USAGE_LEVEL_very_little</th>\n",
       "      <th>CONSIDERING_CHANGE_OF_PLAN_actively_looking_into_it</th>\n",
       "      <th>CONSIDERING_CHANGE_OF_PLAN_considering</th>\n",
       "      <th>CONSIDERING_CHANGE_OF_PLAN_never_thought</th>\n",
       "      <th>CONSIDERING_CHANGE_OF_PLAN_no</th>\n",
       "      <th>CONSIDERING_CHANGE_OF_PLAN_perhaps</th>\n",
       "    </tr>\n",
       "  </thead>\n",
       "  <tbody>\n",
       "    <tr>\n",
       "      <th>0</th>\n",
       "      <td>0</td>\n",
       "      <td>28987</td>\n",
       "      <td>191</td>\n",
       "      <td>20</td>\n",
       "      <td>175953</td>\n",
       "      <td>217</td>\n",
       "      <td>28</td>\n",
       "      <td>5</td>\n",
       "      <td>0</td>\n",
       "      <td>0</td>\n",
       "      <td>...</td>\n",
       "      <td>0</td>\n",
       "      <td>0</td>\n",
       "      <td>0</td>\n",
       "      <td>0</td>\n",
       "      <td>1</td>\n",
       "      <td>0</td>\n",
       "      <td>1</td>\n",
       "      <td>0</td>\n",
       "      <td>0</td>\n",
       "      <td>0</td>\n",
       "    </tr>\n",
       "    <tr>\n",
       "      <th>1</th>\n",
       "      <td>0</td>\n",
       "      <td>45201</td>\n",
       "      <td>0</td>\n",
       "      <td>0</td>\n",
       "      <td>841177</td>\n",
       "      <td>160</td>\n",
       "      <td>1</td>\n",
       "      <td>15</td>\n",
       "      <td>0</td>\n",
       "      <td>0</td>\n",
       "      <td>...</td>\n",
       "      <td>1</td>\n",
       "      <td>0</td>\n",
       "      <td>0</td>\n",
       "      <td>0</td>\n",
       "      <td>0</td>\n",
       "      <td>1</td>\n",
       "      <td>0</td>\n",
       "      <td>0</td>\n",
       "      <td>0</td>\n",
       "      <td>0</td>\n",
       "    </tr>\n",
       "    <tr>\n",
       "      <th>2</th>\n",
       "      <td>1</td>\n",
       "      <td>110663</td>\n",
       "      <td>0</td>\n",
       "      <td>0</td>\n",
       "      <td>902611</td>\n",
       "      <td>529</td>\n",
       "      <td>1</td>\n",
       "      <td>13</td>\n",
       "      <td>0</td>\n",
       "      <td>0</td>\n",
       "      <td>...</td>\n",
       "      <td>0</td>\n",
       "      <td>1</td>\n",
       "      <td>0</td>\n",
       "      <td>0</td>\n",
       "      <td>0</td>\n",
       "      <td>0</td>\n",
       "      <td>0</td>\n",
       "      <td>0</td>\n",
       "      <td>0</td>\n",
       "      <td>1</td>\n",
       "    </tr>\n",
       "    <tr>\n",
       "      <th>3</th>\n",
       "      <td>0</td>\n",
       "      <td>40646</td>\n",
       "      <td>169</td>\n",
       "      <td>71</td>\n",
       "      <td>772903</td>\n",
       "      <td>146</td>\n",
       "      <td>24</td>\n",
       "      <td>2</td>\n",
       "      <td>0</td>\n",
       "      <td>0</td>\n",
       "      <td>...</td>\n",
       "      <td>0</td>\n",
       "      <td>0</td>\n",
       "      <td>1</td>\n",
       "      <td>0</td>\n",
       "      <td>0</td>\n",
       "      <td>0</td>\n",
       "      <td>1</td>\n",
       "      <td>0</td>\n",
       "      <td>0</td>\n",
       "      <td>0</td>\n",
       "    </tr>\n",
       "    <tr>\n",
       "      <th>4</th>\n",
       "      <td>1</td>\n",
       "      <td>132530</td>\n",
       "      <td>0</td>\n",
       "      <td>10</td>\n",
       "      <td>196535</td>\n",
       "      <td>559</td>\n",
       "      <td>0</td>\n",
       "      <td>6</td>\n",
       "      <td>0</td>\n",
       "      <td>0</td>\n",
       "      <td>...</td>\n",
       "      <td>1</td>\n",
       "      <td>0</td>\n",
       "      <td>0</td>\n",
       "      <td>0</td>\n",
       "      <td>0</td>\n",
       "      <td>0</td>\n",
       "      <td>0</td>\n",
       "      <td>0</td>\n",
       "      <td>0</td>\n",
       "      <td>1</td>\n",
       "    </tr>\n",
       "  </tbody>\n",
       "</table>\n",
       "<p>5 rows × 23 columns</p>\n",
       "</div>"
      ],
      "text/plain": [
       "   COLLEGE  INCOME  OVERAGE  LEFTOVER   HOUSE  HANDSET_PRICE  \\\n",
       "0        0   28987      191        20  175953            217   \n",
       "1        0   45201        0         0  841177            160   \n",
       "2        1  110663        0         0  902611            529   \n",
       "3        0   40646      169        71  772903            146   \n",
       "4        1  132530        0        10  196535            559   \n",
       "\n",
       "   OVER_15MINS_CALLS_PER_MONTH  AVERAGE_CALL_DURATION  \\\n",
       "0                           28                      5   \n",
       "1                            1                     15   \n",
       "2                            1                     13   \n",
       "3                           24                      2   \n",
       "4                            0                      6   \n",
       "\n",
       "   REPORTED_SATISFACTION_avg  REPORTED_SATISFACTION_sat  \\\n",
       "0                          0                          0   \n",
       "1                          0                          0   \n",
       "2                          0                          0   \n",
       "3                          0                          0   \n",
       "4                          0                          0   \n",
       "\n",
       "                  ...                  REPORTED_USAGE_LEVEL_avg  \\\n",
       "0                 ...                                         0   \n",
       "1                 ...                                         1   \n",
       "2                 ...                                         0   \n",
       "3                 ...                                         0   \n",
       "4                 ...                                         1   \n",
       "\n",
       "   REPORTED_USAGE_LEVEL_high  REPORTED_USAGE_LEVEL_little  \\\n",
       "0                          0                            0   \n",
       "1                          0                            0   \n",
       "2                          1                            0   \n",
       "3                          0                            1   \n",
       "4                          0                            0   \n",
       "\n",
       "   REPORTED_USAGE_LEVEL_very_high  REPORTED_USAGE_LEVEL_very_little  \\\n",
       "0                               0                                 1   \n",
       "1                               0                                 0   \n",
       "2                               0                                 0   \n",
       "3                               0                                 0   \n",
       "4                               0                                 0   \n",
       "\n",
       "   CONSIDERING_CHANGE_OF_PLAN_actively_looking_into_it  \\\n",
       "0                                                  0     \n",
       "1                                                  1     \n",
       "2                                                  0     \n",
       "3                                                  0     \n",
       "4                                                  0     \n",
       "\n",
       "   CONSIDERING_CHANGE_OF_PLAN_considering  \\\n",
       "0                                       1   \n",
       "1                                       0   \n",
       "2                                       0   \n",
       "3                                       1   \n",
       "4                                       0   \n",
       "\n",
       "   CONSIDERING_CHANGE_OF_PLAN_never_thought  CONSIDERING_CHANGE_OF_PLAN_no  \\\n",
       "0                                         0                              0   \n",
       "1                                         0                              0   \n",
       "2                                         0                              0   \n",
       "3                                         0                              0   \n",
       "4                                         0                              0   \n",
       "\n",
       "   CONSIDERING_CHANGE_OF_PLAN_perhaps  \n",
       "0                                   0  \n",
       "1                                   0  \n",
       "2                                   1  \n",
       "3                                   0  \n",
       "4                                   1  \n",
       "\n",
       "[5 rows x 23 columns]"
      ]
     },
     "execution_count": 73,
     "metadata": {},
     "output_type": "execute_result"
    }
   ],
   "source": [
    "# Defining Features(X) and labels(y)\n",
    "Y = df['LEAVE']\n",
    "X = df_dummies.drop('LEAVE', axis = 1)\n",
    "X.head()"
   ]
  },
  {
   "cell_type": "code",
   "execution_count": 74,
   "metadata": {},
   "outputs": [],
   "source": [
    "# Scaling all the variables to a range of 0 to 1\n",
    "from sklearn.preprocessing import MinMaxScaler\n",
    "features = X.columns.values\n",
    "scaler = MinMaxScaler(feature_range = (0,1))\n",
    "scaler.fit(X)\n",
    "X = pd.DataFrame(scaler.transform(X))\n",
    "X.columns = features"
   ]
  },
  {
   "cell_type": "code",
   "execution_count": 75,
   "metadata": {},
   "outputs": [],
   "source": [
    "# Splitting the data into train and test data for Cross-validation, we have used 20% of train data(train.csv file) as \n",
    "# test data.\n",
    "from sklearn.model_selection import train_test_split\n",
    "X_train, X_test, y_train, y_test = train_test_split(X, Y, test_size=0.20,random_state=0) "
   ]
  },
  {
   "cell_type": "code",
   "execution_count": 76,
   "metadata": {},
   "outputs": [
    {
     "data": {
      "text/html": [
       "<div>\n",
       "<style scoped>\n",
       "    .dataframe tbody tr th:only-of-type {\n",
       "        vertical-align: middle;\n",
       "    }\n",
       "\n",
       "    .dataframe tbody tr th {\n",
       "        vertical-align: top;\n",
       "    }\n",
       "\n",
       "    .dataframe thead th {\n",
       "        text-align: right;\n",
       "    }\n",
       "</style>\n",
       "<table border=\"1\" class=\"dataframe\">\n",
       "  <thead>\n",
       "    <tr style=\"text-align: right;\">\n",
       "      <th></th>\n",
       "      <th>COLLEGE</th>\n",
       "      <th>INCOME</th>\n",
       "      <th>OVERAGE</th>\n",
       "      <th>LEFTOVER</th>\n",
       "      <th>HOUSE</th>\n",
       "      <th>HANDSET_PRICE</th>\n",
       "      <th>OVER_15MINS_CALLS_PER_MONTH</th>\n",
       "      <th>AVERAGE_CALL_DURATION</th>\n",
       "      <th>REPORTED_SATISFACTION_avg</th>\n",
       "      <th>REPORTED_SATISFACTION_sat</th>\n",
       "      <th>...</th>\n",
       "      <th>REPORTED_USAGE_LEVEL_avg</th>\n",
       "      <th>REPORTED_USAGE_LEVEL_high</th>\n",
       "      <th>REPORTED_USAGE_LEVEL_little</th>\n",
       "      <th>REPORTED_USAGE_LEVEL_very_high</th>\n",
       "      <th>REPORTED_USAGE_LEVEL_very_little</th>\n",
       "      <th>CONSIDERING_CHANGE_OF_PLAN_actively_looking_into_it</th>\n",
       "      <th>CONSIDERING_CHANGE_OF_PLAN_considering</th>\n",
       "      <th>CONSIDERING_CHANGE_OF_PLAN_never_thought</th>\n",
       "      <th>CONSIDERING_CHANGE_OF_PLAN_no</th>\n",
       "      <th>CONSIDERING_CHANGE_OF_PLAN_perhaps</th>\n",
       "    </tr>\n",
       "  </thead>\n",
       "  <tbody>\n",
       "    <tr>\n",
       "      <th>2465</th>\n",
       "      <td>1.0</td>\n",
       "      <td>0.980954</td>\n",
       "      <td>0.189911</td>\n",
       "      <td>0.550562</td>\n",
       "      <td>0.962514</td>\n",
       "      <td>0.565670</td>\n",
       "      <td>0.172414</td>\n",
       "      <td>0.357143</td>\n",
       "      <td>0.0</td>\n",
       "      <td>0.0</td>\n",
       "      <td>...</td>\n",
       "      <td>0.0</td>\n",
       "      <td>0.0</td>\n",
       "      <td>0.0</td>\n",
       "      <td>1.0</td>\n",
       "      <td>0.0</td>\n",
       "      <td>0.0</td>\n",
       "      <td>1.0</td>\n",
       "      <td>0.0</td>\n",
       "      <td>0.0</td>\n",
       "      <td>0.0</td>\n",
       "    </tr>\n",
       "    <tr>\n",
       "      <th>8461</th>\n",
       "      <td>0.0</td>\n",
       "      <td>0.240520</td>\n",
       "      <td>0.528190</td>\n",
       "      <td>0.674157</td>\n",
       "      <td>0.111578</td>\n",
       "      <td>0.312094</td>\n",
       "      <td>0.862069</td>\n",
       "      <td>0.000000</td>\n",
       "      <td>1.0</td>\n",
       "      <td>0.0</td>\n",
       "      <td>...</td>\n",
       "      <td>0.0</td>\n",
       "      <td>0.0</td>\n",
       "      <td>1.0</td>\n",
       "      <td>0.0</td>\n",
       "      <td>0.0</td>\n",
       "      <td>1.0</td>\n",
       "      <td>0.0</td>\n",
       "      <td>0.0</td>\n",
       "      <td>0.0</td>\n",
       "      <td>0.0</td>\n",
       "    </tr>\n",
       "    <tr>\n",
       "      <th>13734</th>\n",
       "      <td>1.0</td>\n",
       "      <td>0.738234</td>\n",
       "      <td>0.005935</td>\n",
       "      <td>0.000000</td>\n",
       "      <td>0.854536</td>\n",
       "      <td>0.561769</td>\n",
       "      <td>0.000000</td>\n",
       "      <td>0.714286</td>\n",
       "      <td>0.0</td>\n",
       "      <td>0.0</td>\n",
       "      <td>...</td>\n",
       "      <td>0.0</td>\n",
       "      <td>0.0</td>\n",
       "      <td>0.0</td>\n",
       "      <td>1.0</td>\n",
       "      <td>0.0</td>\n",
       "      <td>0.0</td>\n",
       "      <td>1.0</td>\n",
       "      <td>0.0</td>\n",
       "      <td>0.0</td>\n",
       "      <td>0.0</td>\n",
       "    </tr>\n",
       "    <tr>\n",
       "      <th>965</th>\n",
       "      <td>1.0</td>\n",
       "      <td>0.499021</td>\n",
       "      <td>0.605341</td>\n",
       "      <td>0.224719</td>\n",
       "      <td>0.047221</td>\n",
       "      <td>0.344603</td>\n",
       "      <td>0.965517</td>\n",
       "      <td>0.357143</td>\n",
       "      <td>0.0</td>\n",
       "      <td>0.0</td>\n",
       "      <td>...</td>\n",
       "      <td>0.0</td>\n",
       "      <td>0.0</td>\n",
       "      <td>0.0</td>\n",
       "      <td>1.0</td>\n",
       "      <td>0.0</td>\n",
       "      <td>1.0</td>\n",
       "      <td>0.0</td>\n",
       "      <td>0.0</td>\n",
       "      <td>0.0</td>\n",
       "      <td>0.0</td>\n",
       "    </tr>\n",
       "    <tr>\n",
       "      <th>4615</th>\n",
       "      <td>1.0</td>\n",
       "      <td>0.364512</td>\n",
       "      <td>0.005935</td>\n",
       "      <td>0.000000</td>\n",
       "      <td>0.783519</td>\n",
       "      <td>0.163849</td>\n",
       "      <td>0.034483</td>\n",
       "      <td>1.000000</td>\n",
       "      <td>0.0</td>\n",
       "      <td>0.0</td>\n",
       "      <td>...</td>\n",
       "      <td>0.0</td>\n",
       "      <td>0.0</td>\n",
       "      <td>1.0</td>\n",
       "      <td>0.0</td>\n",
       "      <td>0.0</td>\n",
       "      <td>0.0</td>\n",
       "      <td>0.0</td>\n",
       "      <td>1.0</td>\n",
       "      <td>0.0</td>\n",
       "      <td>0.0</td>\n",
       "    </tr>\n",
       "  </tbody>\n",
       "</table>\n",
       "<p>5 rows × 23 columns</p>\n",
       "</div>"
      ],
      "text/plain": [
       "       COLLEGE    INCOME   OVERAGE  LEFTOVER     HOUSE  HANDSET_PRICE  \\\n",
       "2465       1.0  0.980954  0.189911  0.550562  0.962514       0.565670   \n",
       "8461       0.0  0.240520  0.528190  0.674157  0.111578       0.312094   \n",
       "13734      1.0  0.738234  0.005935  0.000000  0.854536       0.561769   \n",
       "965        1.0  0.499021  0.605341  0.224719  0.047221       0.344603   \n",
       "4615       1.0  0.364512  0.005935  0.000000  0.783519       0.163849   \n",
       "\n",
       "       OVER_15MINS_CALLS_PER_MONTH  AVERAGE_CALL_DURATION  \\\n",
       "2465                      0.172414               0.357143   \n",
       "8461                      0.862069               0.000000   \n",
       "13734                     0.000000               0.714286   \n",
       "965                       0.965517               0.357143   \n",
       "4615                      0.034483               1.000000   \n",
       "\n",
       "       REPORTED_SATISFACTION_avg  REPORTED_SATISFACTION_sat  \\\n",
       "2465                         0.0                        0.0   \n",
       "8461                         1.0                        0.0   \n",
       "13734                        0.0                        0.0   \n",
       "965                          0.0                        0.0   \n",
       "4615                         0.0                        0.0   \n",
       "\n",
       "                      ...                  REPORTED_USAGE_LEVEL_avg  \\\n",
       "2465                  ...                                       0.0   \n",
       "8461                  ...                                       0.0   \n",
       "13734                 ...                                       0.0   \n",
       "965                   ...                                       0.0   \n",
       "4615                  ...                                       0.0   \n",
       "\n",
       "       REPORTED_USAGE_LEVEL_high  REPORTED_USAGE_LEVEL_little  \\\n",
       "2465                         0.0                          0.0   \n",
       "8461                         0.0                          1.0   \n",
       "13734                        0.0                          0.0   \n",
       "965                          0.0                          0.0   \n",
       "4615                         0.0                          1.0   \n",
       "\n",
       "       REPORTED_USAGE_LEVEL_very_high  REPORTED_USAGE_LEVEL_very_little  \\\n",
       "2465                              1.0                               0.0   \n",
       "8461                              0.0                               0.0   \n",
       "13734                             1.0                               0.0   \n",
       "965                               1.0                               0.0   \n",
       "4615                              0.0                               0.0   \n",
       "\n",
       "       CONSIDERING_CHANGE_OF_PLAN_actively_looking_into_it  \\\n",
       "2465                                                 0.0     \n",
       "8461                                                 1.0     \n",
       "13734                                                0.0     \n",
       "965                                                  1.0     \n",
       "4615                                                 0.0     \n",
       "\n",
       "       CONSIDERING_CHANGE_OF_PLAN_considering  \\\n",
       "2465                                      1.0   \n",
       "8461                                      0.0   \n",
       "13734                                     1.0   \n",
       "965                                       0.0   \n",
       "4615                                      0.0   \n",
       "\n",
       "       CONSIDERING_CHANGE_OF_PLAN_never_thought  \\\n",
       "2465                                        0.0   \n",
       "8461                                        0.0   \n",
       "13734                                       0.0   \n",
       "965                                         0.0   \n",
       "4615                                        1.0   \n",
       "\n",
       "       CONSIDERING_CHANGE_OF_PLAN_no  CONSIDERING_CHANGE_OF_PLAN_perhaps  \n",
       "2465                             0.0                                 0.0  \n",
       "8461                             0.0                                 0.0  \n",
       "13734                            0.0                                 0.0  \n",
       "965                              0.0                                 0.0  \n",
       "4615                             0.0                                 0.0  \n",
       "\n",
       "[5 rows x 23 columns]"
      ]
     },
     "execution_count": 76,
     "metadata": {},
     "output_type": "execute_result"
    }
   ],
   "source": [
    "X_train.head()"
   ]
  },
  {
   "cell_type": "code",
   "execution_count": 77,
   "metadata": {},
   "outputs": [
    {
     "data": {
      "text/plain": [
       "Index(['COLLEGE', 'INCOME', 'OVERAGE', 'LEFTOVER', 'HOUSE', 'HANDSET_PRICE',\n",
       "       'OVER_15MINS_CALLS_PER_MONTH', 'AVERAGE_CALL_DURATION',\n",
       "       'REPORTED_SATISFACTION_avg', 'REPORTED_SATISFACTION_sat',\n",
       "       'REPORTED_SATISFACTION_unsat', 'REPORTED_SATISFACTION_very_sat',\n",
       "       'REPORTED_SATISFACTION_very_unsat', 'REPORTED_USAGE_LEVEL_avg',\n",
       "       'REPORTED_USAGE_LEVEL_high', 'REPORTED_USAGE_LEVEL_little',\n",
       "       'REPORTED_USAGE_LEVEL_very_high', 'REPORTED_USAGE_LEVEL_very_little',\n",
       "       'CONSIDERING_CHANGE_OF_PLAN_actively_looking_into_it',\n",
       "       'CONSIDERING_CHANGE_OF_PLAN_considering',\n",
       "       'CONSIDERING_CHANGE_OF_PLAN_never_thought',\n",
       "       'CONSIDERING_CHANGE_OF_PLAN_no', 'CONSIDERING_CHANGE_OF_PLAN_perhaps'],\n",
       "      dtype='object')"
      ]
     },
     "execution_count": 77,
     "metadata": {},
     "output_type": "execute_result"
    }
   ],
   "source": [
    "X_test.shape\n",
    "X_train.columns"
   ]
  },
  {
   "cell_type": "markdown",
   "metadata": {},
   "source": [
    "### Decision Tree "
   ]
  },
  {
   "cell_type": "code",
   "execution_count": 78,
   "metadata": {},
   "outputs": [],
   "source": [
    "from sklearn.tree import DecisionTreeClassifier\n",
    "tree = DecisionTreeClassifier(max_depth  = 5, min_samples_split = 490, random_state = 0)"
   ]
  },
  {
   "cell_type": "markdown",
   "metadata": {},
   "source": [
    "##### Using GridsearchCV to fine tune the hyperparamters. (Need to run this only once) "
   ]
  },
  {
   "cell_type": "code",
   "execution_count": 79,
   "metadata": {},
   "outputs": [
    {
     "data": {
      "text/plain": [
       "\"\\nTuning and finding the best hyperparameters for the classifier using GridSearchCV.\\nparam_grid = {'criterion':['gini','entropy'],'max_depth':[4,5,6,7,8,9,10,11,12,15,20,30,40,50,70,90,120,150], 'random_state': np.arange(0,102)}\\n#creating the pipeline\\nCV = GridSearchCV(tree, param_grid, cv=5, verbose = 1, n_jobs = 8)\\n#fit the grid with data\\nCV.fit(X_train, y_train)\\nCV.best_params_\\n\""
      ]
     },
     "execution_count": 79,
     "metadata": {},
     "output_type": "execute_result"
    }
   ],
   "source": [
    "'''\n",
    "Tuning and finding the best hyperparameters for the classifier using GridSearchCV.\n",
    "param_grid = {'criterion':['gini','entropy'],'max_depth':[4,5,6,7,8,9,10,11,12,15,20,30,40,50,70,90,120,150], 'random_state': np.arange(0,102)}\n",
    "#creating the pipeline\n",
    "CV = GridSearchCV(tree, param_grid, cv=5, verbose = 1, n_jobs = 8)\n",
    "#fit the grid with data\n",
    "CV.fit(X_train, y_train)\n",
    "CV.best_params_\n",
    "'''"
   ]
  },
  {
   "cell_type": "code",
   "execution_count": 80,
   "metadata": {},
   "outputs": [
    {
     "name": "stdout",
     "output_type": "stream",
     "text": [
      "Accuracy: 0.699167\n",
      "Cross_Val_Score: 0.70 (+/- 0.01)\n",
      "AUC: 0.699057\n"
     ]
    }
   ],
   "source": [
    "tree.fit(X_train, y_train)\n",
    "predict_y = tree.predict(X_test)\n",
    "acc_tree = tree.score(X_test, y_test)\n",
    "print(\"Accuracy: %0.6f\" % accuracy)\n",
    "tree_scores = cross_val_score(tree, X_train, y_train, cv=3)  \n",
    "print(\"Cross_Val_Score: %0.2f (+/- %0.2f)\" % (tree_scores.mean(), tree_scores.std() * 2))\n",
    "tree_auc = roc_auc_score(y_test, predict_y)\n",
    "print(\"AUC: %0.6f\" % tree_auc)"
   ]
  },
  {
   "cell_type": "markdown",
   "metadata": {},
   "source": [
    "### Gradient Boosting "
   ]
  },
  {
   "cell_type": "code",
   "execution_count": 81,
   "metadata": {},
   "outputs": [],
   "source": [
    "from sklearn.ensemble import GradientBoostingClassifier\n",
    "GB = GradientBoostingClassifier()"
   ]
  },
  {
   "cell_type": "code",
   "execution_count": 82,
   "metadata": {},
   "outputs": [
    {
     "data": {
      "text/plain": [
       "\"\\nTuning and finding the best hyperparameters for the classifier using GridSearchCV.\\nparam_grid = {'learning_rate':[0.15,0.1,0.05,0.01,0.005,0.001], 'n_estimators':[100,250,500,750,1000,1250,1500,1750]}\\n#creating the pipeline\\nCV = GridSearchCV(logreg, param_grid, cv=5, verbose = 1, n_jobs = 8)\\n#fit the grid with data\\nCV.fit(X_train, y_train)\\nCV.best_params_\\n\""
      ]
     },
     "execution_count": 82,
     "metadata": {},
     "output_type": "execute_result"
    }
   ],
   "source": [
    "'''\n",
    "Tuning and finding the best hyperparameters for the classifier using GridSearchCV.\n",
    "param_grid = {'learning_rate':[0.15,0.1,0.05,0.01,0.005,0.001], 'n_estimators':[100,250,500,750,1000,1250,1500,1750]}\n",
    "#creating the pipeline\n",
    "CV = GridSearchCV(logreg, param_grid, cv=5, verbose = 1, n_jobs = 8)\n",
    "#fit the grid with data\n",
    "CV.fit(X_train, y_train)\n",
    "CV.best_params_\n",
    "'''"
   ]
  },
  {
   "cell_type": "code",
   "execution_count": 83,
   "metadata": {},
   "outputs": [
    {
     "data": {
      "text/plain": [
       "GradientBoostingClassifier(criterion='friedman_mse', init=None,\n",
       "              learning_rate=0.005, loss='deviance', max_depth=3,\n",
       "              max_features=None, max_leaf_nodes=None,\n",
       "              min_impurity_decrease=0.0, min_impurity_split=None,\n",
       "              min_samples_leaf=1, min_samples_split=2,\n",
       "              min_weight_fraction_leaf=0.0, n_estimators=1500,\n",
       "              presort='auto', random_state=None, subsample=1.0, verbose=0,\n",
       "              warm_start=False)"
      ]
     },
     "execution_count": 83,
     "metadata": {},
     "output_type": "execute_result"
    }
   ],
   "source": [
    "GB = GradientBoostingClassifier(learning_rate = 0.005, n_estimators = 1500)\n",
    "GB.fit(X_train, y_train)"
   ]
  },
  {
   "cell_type": "code",
   "execution_count": 84,
   "metadata": {},
   "outputs": [
    {
     "name": "stdout",
     "output_type": "stream",
     "text": [
      "Accuracy: 0.70\n",
      "Cross_Val_Score: 0.70 (+/- 0.01)\n",
      "AUC: 0.70\n"
     ]
    }
   ],
   "source": [
    "Y_pred_GB = GB.predict(X_test)\n",
    "acc_GB = accuracy_score(y_test, Y_pred_GB)\n",
    "print(\"Accuracy: %0.2f\" % acc_GB)\n",
    "GB_scores = cross_val_score(GB, X_train, y_train, cv=3)  \n",
    "print(\"Cross_Val_Score: %0.2f (+/- %0.2f)\" % (GB_scores.mean(), GB_scores.std() * 2))\n",
    "GB_auc = roc_auc_score(y_test, Y_pred_GB)\n",
    "print(\"AUC: %0.2f\" % GB_auc)"
   ]
  },
  {
   "cell_type": "markdown",
   "metadata": {},
   "source": [
    "### K Nearest Neighbors "
   ]
  },
  {
   "cell_type": "code",
   "execution_count": 85,
   "metadata": {},
   "outputs": [],
   "source": [
    "from sklearn.neighbors import KNeighborsClassifier\n",
    "knn = KNeighborsClassifier(n_neighbors = 2)"
   ]
  },
  {
   "cell_type": "code",
   "execution_count": 86,
   "metadata": {},
   "outputs": [
    {
     "data": {
      "text/plain": [
       "\"\\nTuning and finding the best hyperparameters for the classifier using GridSearchCV.\\nparam_grid = {'n_neighbors': [1,2,3,4,5,6,7]}\\n#creating the pipeline\\nCV = GridSearchCV(logreg, param_grid, cv=5, verbose = 1, n_jobs = 8)\\n#fit the grid with data\\nCV.fit(X_train, y_train)\\nCV.best_params_\\n\""
      ]
     },
     "execution_count": 86,
     "metadata": {},
     "output_type": "execute_result"
    }
   ],
   "source": [
    "'''\n",
    "Tuning and finding the best hyperparameters for the classifier using GridSearchCV.\n",
    "param_grid = {'n_neighbors': [1,2,3,4,5,6,7]}\n",
    "#creating the pipeline\n",
    "CV = GridSearchCV(logreg, param_grid, cv=5, verbose = 1, n_jobs = 8)\n",
    "#fit the grid with data\n",
    "CV.fit(X_train, y_train)\n",
    "CV.best_params_\n",
    "'''"
   ]
  },
  {
   "cell_type": "code",
   "execution_count": 87,
   "metadata": {},
   "outputs": [
    {
     "data": {
      "text/plain": [
       "KNeighborsClassifier(algorithm='auto', leaf_size=30, metric='minkowski',\n",
       "           metric_params=None, n_jobs=1, n_neighbors=3, p=2,\n",
       "           weights='uniform')"
      ]
     },
     "execution_count": 87,
     "metadata": {},
     "output_type": "execute_result"
    }
   ],
   "source": [
    "knn = KNeighborsClassifier(n_neighbors = 3)\n",
    "knn.fit(X_train, y_train)"
   ]
  },
  {
   "cell_type": "code",
   "execution_count": 88,
   "metadata": {},
   "outputs": [
    {
     "name": "stdout",
     "output_type": "stream",
     "text": [
      "Accuracy: 0.59\n",
      "Cross_Val_Score: 0.59 (+/- 0.01)\n",
      "AUC: 0.59\n"
     ]
    }
   ],
   "source": [
    "Y_pred_knn = knn.predict(X_test)\n",
    "acc_knn = accuracy_score(y_test, Y_pred_knn)\n",
    "print(\"Accuracy: %0.2f\" % acc_knn)\n",
    "\n",
    "knn_scores = cross_val_score(knn, X_train, y_train, cv=3)  \n",
    "print(\"Cross_Val_Score: %0.2f (+/- %0.2f)\" % (knn_scores.mean(), knn_scores.std() * 2))\n",
    "knn_auc = roc_auc_score(y_test, Y_pred_knn)\n",
    "print(\"AUC: %0.2f\" % knn_auc)"
   ]
  },
  {
   "cell_type": "markdown",
   "metadata": {},
   "source": [
    "### Logistic Regression "
   ]
  },
  {
   "cell_type": "code",
   "execution_count": 89,
   "metadata": {},
   "outputs": [],
   "source": [
    "from sklearn.linear_model import LogisticRegression\n",
    "logreg = LogisticRegression()"
   ]
  },
  {
   "cell_type": "code",
   "execution_count": 90,
   "metadata": {},
   "outputs": [
    {
     "data": {
      "text/plain": [
       "\"\\nTuning and finding the best hyperparameters for the classifier using GridSearchCV.\\nparam_grid = {'C':np.logspace(-3,3,7)}\\n#creating the pipeline\\nCV = GridSearchCV(logreg, param_grid, cv=5, verbose = 1, n_jobs = 8)\\n#fit the grid with data\\nCV.fit(X_train, y_train)\\nCV.best_params_\\n\""
      ]
     },
     "execution_count": 90,
     "metadata": {},
     "output_type": "execute_result"
    }
   ],
   "source": [
    "'''\n",
    "Tuning and finding the best hyperparameters for the classifier using GridSearchCV.\n",
    "param_grid = {'C':np.logspace(-3,3,7)}\n",
    "#creating the pipeline\n",
    "CV = GridSearchCV(logreg, param_grid, cv=5, verbose = 1, n_jobs = 8)\n",
    "#fit the grid with data\n",
    "CV.fit(X_train, y_train)\n",
    "CV.best_params_\n",
    "'''"
   ]
  },
  {
   "cell_type": "code",
   "execution_count": 91,
   "metadata": {},
   "outputs": [
    {
     "data": {
      "text/plain": [
       "LogisticRegression(C=0.1, class_weight=None, dual=False, fit_intercept=True,\n",
       "          intercept_scaling=1, max_iter=100, multi_class='ovr', n_jobs=1,\n",
       "          penalty='l2', random_state=None, solver='liblinear', tol=0.0001,\n",
       "          verbose=0, warm_start=False)"
      ]
     },
     "execution_count": 91,
     "metadata": {},
     "output_type": "execute_result"
    }
   ],
   "source": [
    "logreg = LogisticRegression(C = 0.1)\n",
    "logreg.fit(X_train, y_train)"
   ]
  },
  {
   "cell_type": "code",
   "execution_count": 92,
   "metadata": {},
   "outputs": [
    {
     "name": "stdout",
     "output_type": "stream",
     "text": [
      "Accuracy: 0.64\n",
      "Cross_Val_Score: 0.60 (+/- 0.01)\n",
      "AUC: 0.64\n"
     ]
    }
   ],
   "source": [
    "Y_pred_reg = logreg.predict(X_test)\n",
    "acc_reg = accuracy_score(y_test, Y_pred_reg)\n",
    "print(\"Accuracy: %0.2f\" % acc_reg)\n",
    "\n",
    "reg_scores = cross_val_score(knn, X_train, y_train, cv=5)  \n",
    "print(\"Cross_Val_Score: %0.2f (+/- %0.2f)\" % (reg_scores.mean(), reg_scores.std() * 2))\n",
    "reg_auc = roc_auc_score(y_test, Y_pred_reg)\n",
    "print(\"AUC: %0.2f\" % reg_auc)"
   ]
  },
  {
   "cell_type": "markdown",
   "metadata": {},
   "source": [
    "### Support Vector Machine "
   ]
  },
  {
   "cell_type": "code",
   "execution_count": 93,
   "metadata": {},
   "outputs": [],
   "source": [
    "from sklearn import svm \n",
    "svc = svm.SVC(gamma=\"scale\")"
   ]
  },
  {
   "cell_type": "code",
   "execution_count": 94,
   "metadata": {},
   "outputs": [
    {
     "data": {
      "text/plain": [
       "\"\\nTuning and finding the best hyperparameters for the classifier using GridSearchCV.\\nparam_grid = {'kernel':('linear', 'rbf'), 'C':np.logspace(-3,3,7)}\\n#creating the pipeline\\nCV = GridSearchCV(svc, param_grid, cv=5, verbose = 1, n_jobs = 8)\\n#fit the grid with data\\nCV.fit(X_train, y_train)\\nCV.best_params_\\n\""
      ]
     },
     "execution_count": 94,
     "metadata": {},
     "output_type": "execute_result"
    }
   ],
   "source": [
    "'''\n",
    "Tuning and finding the best hyperparameters for the classifier using GridSearchCV.\n",
    "param_grid = {'kernel':('linear', 'rbf'), 'C':np.logspace(-3,3,7)}\n",
    "#creating the pipeline\n",
    "CV = GridSearchCV(svc, param_grid, cv=5, verbose = 1, n_jobs = 8)\n",
    "#fit the grid with data\n",
    "CV.fit(X_train, y_train)\n",
    "CV.best_params_\n",
    "'''"
   ]
  },
  {
   "cell_type": "code",
   "execution_count": 95,
   "metadata": {},
   "outputs": [
    {
     "data": {
      "text/plain": [
       "SVC(C=10, cache_size=200, class_weight=None, coef0=0.0,\n",
       "  decision_function_shape='ovr', degree=3, gamma='auto', kernel='rbf',\n",
       "  max_iter=-1, probability=False, random_state=None, shrinking=True,\n",
       "  tol=0.001, verbose=False)"
      ]
     },
     "execution_count": 95,
     "metadata": {},
     "output_type": "execute_result"
    }
   ],
   "source": [
    "svc = svm.SVC(C = 10, kernel = 'rbf')\n",
    "svc.fit(X_train, y_train)"
   ]
  },
  {
   "cell_type": "code",
   "execution_count": 96,
   "metadata": {},
   "outputs": [
    {
     "name": "stdout",
     "output_type": "stream",
     "text": [
      "Accuracy: 0.66\n",
      "Cross_Val_Score: 0.66 (+/- 0.01)\n",
      "AUC: 0.66\n"
     ]
    }
   ],
   "source": [
    "Y_pred_svc = svc.predict(X_test)\n",
    "acc_svc = accuracy_score(y_test, Y_pred_svc)\n",
    "print(\"Accuracy: %0.2f\" % acc_svc)\n",
    "svm_scores = cross_val_score(svc, X_train, y_train, cv=3)  \n",
    "print(\"Cross_Val_Score: %0.2f (+/- %0.2f)\" % (svm_scores.mean(), svm_scores.std() * 2))\n",
    "svm_auc = roc_auc_score(y_test, Y_pred_svc)\n",
    "print(\"AUC: %0.2f\" % svm_auc)"
   ]
  },
  {
   "cell_type": "markdown",
   "metadata": {},
   "source": [
    "### Neural Network "
   ]
  },
  {
   "cell_type": "code",
   "execution_count": 97,
   "metadata": {},
   "outputs": [],
   "source": [
    "from sklearn.neural_network import MLPClassifier\n",
    "nnet = MLPClassifier()"
   ]
  },
  {
   "cell_type": "code",
   "execution_count": 98,
   "metadata": {},
   "outputs": [
    {
     "data": {
      "text/plain": [
       "\"\\nTuning and finding the best hyperparameters for the classifier using GridSearchCV.\\nparam_grid = {'solver': ['lbfgs'], 'max_iter': [1000,1100,1200,1300,1400,1500,1600,1700,1800,1900,2000 ], 'alpha': 10.0 ** -np.arange(1, 10), 'hidden_layer_sizes':np.arange(8, 15), 'random_state':[0,1,2,3,4,5,6,7,8,9]}\\n#creating the pipeline\\nCV = GridSearchCV(nnet, param_grid, cv=5, verbose = 1, n_jobs = 8)\\n#fit the grid with data\\nCV.fit(X_train, y_train)\\nCV.best_params_\\n\""
      ]
     },
     "execution_count": 98,
     "metadata": {},
     "output_type": "execute_result"
    }
   ],
   "source": [
    "'''\n",
    "Tuning and finding the best hyperparameters for the classifier using GridSearchCV.\n",
    "param_grid = {'solver': ['lbfgs'], 'max_iter': [1000,1100,1200,1300,1400,1500,1600,1700,1800,1900,2000 ], 'alpha': 10.0 ** -np.arange(1, 10), 'hidden_layer_sizes':np.arange(8, 15), 'random_state':[0,1,2,3,4,5,6,7,8,9]}\n",
    "#creating the pipeline\n",
    "CV = GridSearchCV(nnet, param_grid, cv=5, verbose = 1, n_jobs = 8)\n",
    "#fit the grid with data\n",
    "CV.fit(X_train, y_train)\n",
    "CV.best_params_\n",
    "'''"
   ]
  },
  {
   "cell_type": "code",
   "execution_count": 99,
   "metadata": {},
   "outputs": [
    {
     "data": {
      "text/plain": [
       "MLPClassifier(activation='relu', alpha=0.001, batch_size='auto', beta_1=0.9,\n",
       "       beta_2=0.999, early_stopping=False, epsilon=1e-08,\n",
       "       hidden_layer_sizes=14, learning_rate='constant',\n",
       "       learning_rate_init=0.001, max_iter=1900, momentum=0.9,\n",
       "       nesterovs_momentum=True, power_t=0.5, random_state=6, shuffle=True,\n",
       "       solver='lbfgs', tol=0.0001, validation_fraction=0.1, verbose=False,\n",
       "       warm_start=False)"
      ]
     },
     "execution_count": 99,
     "metadata": {},
     "output_type": "execute_result"
    }
   ],
   "source": [
    "nnet = MLPClassifier(alpha = 0.001, hidden_layer_sizes = 14, max_iter = 1900, random_state = 6, solver = 'lbfgs')\n",
    "nnet.fit(X_train, y_train)"
   ]
  },
  {
   "cell_type": "code",
   "execution_count": 100,
   "metadata": {},
   "outputs": [
    {
     "name": "stdout",
     "output_type": "stream",
     "text": [
      "Accuracy: 0.68\n",
      "Cross_Val_Score: 0.66 (+/- 0.01)\n",
      "AUC: 0.67\n"
     ]
    }
   ],
   "source": [
    "Y_pred_nnet = nnet.predict(X_test)\n",
    "acc_nnet = accuracy_score(y_test, Y_pred_nnet)\n",
    "print(\"Accuracy: %0.2f\" % acc_nnet)\n",
    "nnet_scores = cross_val_score(nnet, X_train, y_train, cv=3)  \n",
    "print(\"Cross_Val_Score: %0.2f (+/- %0.2f)\" % (nnet_scores.mean(), nnet_scores.std() * 2))\n",
    "nnet_auc = roc_auc_score(y_test, Y_pred_nnet)\n",
    "print(\"AUC: %0.2f\" % nnet_auc)"
   ]
  },
  {
   "cell_type": "markdown",
   "metadata": {},
   "source": [
    "### Random Forest "
   ]
  },
  {
   "cell_type": "code",
   "execution_count": 101,
   "metadata": {},
   "outputs": [],
   "source": [
    "from sklearn.ensemble import RandomForestClassifier\n",
    "randForest = RandomForestClassifier()"
   ]
  },
  {
   "cell_type": "code",
   "execution_count": 102,
   "metadata": {},
   "outputs": [
    {
     "data": {
      "text/plain": [
       "\"\\nTuning and finding the best hyperparameters for the classifier using GridSearchCV.\\nparam_grid = {'n_estimators': [100, 200], 'max_depth': range(3,10,1), 'random_state': range(0,102,2), 'criterion': ['gini',  'entropy']\\n}\\n#creating the pipeline\\nCV_randForest = GridSearchCV(randForest, param_grid, cv=5, verbose = 1, n_jobs = 8)\\n#fit the grid with data\\nCV_randForest.fit(X_train, y_train)\\nCV_randForest.best_params_\\n\""
      ]
     },
     "execution_count": 102,
     "metadata": {},
     "output_type": "execute_result"
    }
   ],
   "source": [
    "'''\n",
    "Tuning and finding the best hyperparameters for the classifier using GridSearchCV.\n",
    "param_grid = {'n_estimators': [100, 200], 'max_depth': range(3,10,1), 'random_state': range(0,102,2), 'criterion': ['gini',  'entropy']\n",
    "}\n",
    "#creating the pipeline\n",
    "CV_randForest = GridSearchCV(randForest, param_grid, cv=5, verbose = 1, n_jobs = 8)\n",
    "#fit the grid with data\n",
    "CV_randForest.fit(X_train, y_train)\n",
    "CV_randForest.best_params_\n",
    "'''"
   ]
  },
  {
   "cell_type": "code",
   "execution_count": 103,
   "metadata": {},
   "outputs": [
    {
     "data": {
      "text/plain": [
       "RandomForestClassifier(bootstrap=True, class_weight=None, criterion='entropy',\n",
       "            max_depth=8, max_features='auto', max_leaf_nodes=None,\n",
       "            min_impurity_decrease=0.0, min_impurity_split=None,\n",
       "            min_samples_leaf=1, min_samples_split=2,\n",
       "            min_weight_fraction_leaf=0.0, n_estimators=100, n_jobs=1,\n",
       "            oob_score=False, random_state=46, verbose=0, warm_start=False)"
      ]
     },
     "execution_count": 103,
     "metadata": {},
     "output_type": "execute_result"
    }
   ],
   "source": [
    "randForest = RandomForestClassifier(n_estimators= 100, max_depth=8, random_state = 46, criterion = 'entropy')\n",
    "randForest.fit(X_train, y_train)"
   ]
  },
  {
   "cell_type": "code",
   "execution_count": 104,
   "metadata": {},
   "outputs": [
    {
     "name": "stdout",
     "output_type": "stream",
     "text": [
      "Accuracy: 0.70\n",
      "Cross_Val_Score: 0.70 (+/- 0.01)\n",
      "AUC: 0.70\n"
     ]
    }
   ],
   "source": [
    "Y_pred_randForest = randForest.predict(X_test)\n",
    "acc_randForest = accuracy_score(y_test, Y_pred_randForest)\n",
    "print(\"Accuracy: %0.2f\" % acc_randForest)\n",
    "randForest_scores = cross_val_score(randForest, X_train, y_train, cv=3)  \n",
    "print(\"Cross_Val_Score: %0.2f (+/- %0.2f)\" % (randForest_scores.mean(), randForest_scores.std() * 2))\n",
    "randForest_auc = roc_auc_score(y_test, Y_pred_randForest)\n",
    "print(\"AUC: %0.2f\" % randForest_auc)"
   ]
  },
  {
   "cell_type": "code",
   "execution_count": 105,
   "metadata": {},
   "outputs": [
    {
     "data": {
      "text/html": [
       "<div>\n",
       "<style scoped>\n",
       "    .dataframe tbody tr th:only-of-type {\n",
       "        vertical-align: middle;\n",
       "    }\n",
       "\n",
       "    .dataframe tbody tr th {\n",
       "        vertical-align: top;\n",
       "    }\n",
       "\n",
       "    .dataframe thead th {\n",
       "        text-align: right;\n",
       "    }\n",
       "</style>\n",
       "<table border=\"1\" class=\"dataframe\">\n",
       "  <thead>\n",
       "    <tr style=\"text-align: right;\">\n",
       "      <th></th>\n",
       "      <th>Model</th>\n",
       "      <th>Accuracy</th>\n",
       "      <th>Cross_Val_score</th>\n",
       "      <th>AUC</th>\n",
       "    </tr>\n",
       "  </thead>\n",
       "  <tbody>\n",
       "    <tr>\n",
       "      <th>1</th>\n",
       "      <td>Gradient Boosting</td>\n",
       "      <td>0.703889</td>\n",
       "      <td>0.699653</td>\n",
       "      <td>0.704411</td>\n",
       "    </tr>\n",
       "    <tr>\n",
       "      <th>6</th>\n",
       "      <td>Random Forest</td>\n",
       "      <td>0.701667</td>\n",
       "      <td>0.697292</td>\n",
       "      <td>0.700991</td>\n",
       "    </tr>\n",
       "    <tr>\n",
       "      <th>0</th>\n",
       "      <td>Decision Tree</td>\n",
       "      <td>0.699167</td>\n",
       "      <td>0.698056</td>\n",
       "      <td>0.699057</td>\n",
       "    </tr>\n",
       "    <tr>\n",
       "      <th>5</th>\n",
       "      <td>Neural Network</td>\n",
       "      <td>0.675278</td>\n",
       "      <td>0.664931</td>\n",
       "      <td>0.674636</td>\n",
       "    </tr>\n",
       "    <tr>\n",
       "      <th>4</th>\n",
       "      <td>SVM</td>\n",
       "      <td>0.663056</td>\n",
       "      <td>0.661458</td>\n",
       "      <td>0.660422</td>\n",
       "    </tr>\n",
       "    <tr>\n",
       "      <th>3</th>\n",
       "      <td>Logistic Regression</td>\n",
       "      <td>0.637500</td>\n",
       "      <td>0.597639</td>\n",
       "      <td>0.636981</td>\n",
       "    </tr>\n",
       "    <tr>\n",
       "      <th>2</th>\n",
       "      <td>KNN</td>\n",
       "      <td>0.592500</td>\n",
       "      <td>0.591944</td>\n",
       "      <td>0.591948</td>\n",
       "    </tr>\n",
       "  </tbody>\n",
       "</table>\n",
       "</div>"
      ],
      "text/plain": [
       "                 Model  Accuracy  Cross_Val_score       AUC\n",
       "1    Gradient Boosting  0.703889         0.699653  0.704411\n",
       "6        Random Forest  0.701667         0.697292  0.700991\n",
       "0        Decision Tree  0.699167         0.698056  0.699057\n",
       "5       Neural Network  0.675278         0.664931  0.674636\n",
       "4                  SVM  0.663056         0.661458  0.660422\n",
       "3  Logistic Regression  0.637500         0.597639  0.636981\n",
       "2                  KNN  0.592500         0.591944  0.591948"
      ]
     },
     "execution_count": 105,
     "metadata": {},
     "output_type": "execute_result"
    }
   ],
   "source": [
    "models = pd.DataFrame({\n",
    "    'Model': ['Decision Tree', 'Gradient Boosting', 'KNN', \n",
    "              'Logistic Regression', 'SVM', 'Neural Network', 'Random Forest'],\n",
    "    'Accuracy': [acc_tree, acc_GB, acc_knn, acc_reg, acc_svc, acc_nnet, acc_randForest],\n",
    "    'Cross_Val_score': [tree_scores.mean(), GB_scores.mean(), knn_scores.mean(), reg_scores.mean(), svm_scores.mean(), nnet_scores.mean(), randForest_scores.mean()],\n",
    "    'AUC': [tree_auc, GB_auc, knn_auc, reg_auc, svm_auc, nnet_auc, randForest_auc]})\n",
    "models.sort_values(by='AUC', ascending=False)"
   ]
  }
 ],
 "metadata": {
  "kernelspec": {
   "display_name": "Python 3",
   "language": "python",
   "name": "python3"
  },
  "language_info": {
   "codemirror_mode": {
    "name": "ipython",
    "version": 3
   },
   "file_extension": ".py",
   "mimetype": "text/x-python",
   "name": "python",
   "nbconvert_exporter": "python",
   "pygments_lexer": "ipython3",
   "version": "3.7.1"
  }
 },
 "nbformat": 4,
 "nbformat_minor": 2
}
